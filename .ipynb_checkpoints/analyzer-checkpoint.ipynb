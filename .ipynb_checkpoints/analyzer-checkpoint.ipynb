{
 "cells": [
  {
   "cell_type": "code",
   "execution_count": 1,
   "id": "3194a5ce",
   "metadata": {},
   "outputs": [
    {
     "name": "stdout",
     "output_type": "stream",
     "text": [
      "Defaulting to user installation because normal site-packages is not writeable\n",
      "Collecting pymupdf\n",
      "  Obtaining dependency information for pymupdf from https://files.pythonhosted.org/packages/4a/26/8c72973b8833a72785cedc3981eb59b8ac7075942718bbb7b69b352cdde4/pymupdf-1.26.3-cp39-abi3-win_amd64.whl.metadata\n",
      "  Downloading pymupdf-1.26.3-cp39-abi3-win_amd64.whl.metadata (3.4 kB)\n",
      "Downloading pymupdf-1.26.3-cp39-abi3-win_amd64.whl (18.7 MB)\n",
      "   ---------------------------------------- 0.0/18.7 MB ? eta -:--:--\n",
      "   ---------------------------------------- 0.0/18.7 MB ? eta -:--:--\n",
      "   ---------------------------------------- 0.0/18.7 MB 682.7 kB/s eta 0:00:28\n",
      "   ---------------------------------------- 0.0/18.7 MB 393.8 kB/s eta 0:00:48\n",
      "   ---------------------------------------- 0.1/18.7 MB 819.2 kB/s eta 0:00:23\n",
      "    --------------------------------------- 0.2/18.7 MB 1.3 MB/s eta 0:00:15\n",
      "   - -------------------------------------- 0.5/18.7 MB 2.0 MB/s eta 0:00:10\n",
      "   - -------------------------------------- 0.8/18.7 MB 3.0 MB/s eta 0:00:07\n",
      "   -- ------------------------------------- 1.2/18.7 MB 3.9 MB/s eta 0:00:05\n",
      "   --- ------------------------------------ 1.6/18.7 MB 4.6 MB/s eta 0:00:04\n",
      "   ---- ----------------------------------- 2.1/18.7 MB 5.0 MB/s eta 0:00:04\n",
      "   ---- ----------------------------------- 2.1/18.7 MB 4.7 MB/s eta 0:00:04\n",
      "   ---- ----------------------------------- 2.1/18.7 MB 4.7 MB/s eta 0:00:04\n",
      "   ---- ----------------------------------- 2.1/18.7 MB 4.7 MB/s eta 0:00:04\n",
      "   -------- ------------------------------- 3.8/18.7 MB 6.3 MB/s eta 0:00:03\n",
      "   -------- ------------------------------- 4.2/18.7 MB 6.5 MB/s eta 0:00:03\n",
      "   --------- ------------------------------ 4.7/18.7 MB 6.8 MB/s eta 0:00:03\n",
      "   ---------- ----------------------------- 5.0/18.7 MB 6.8 MB/s eta 0:00:02\n",
      "   ------------ --------------------------- 5.6/18.7 MB 7.2 MB/s eta 0:00:02\n",
      "   ------------ --------------------------- 6.1/18.7 MB 7.5 MB/s eta 0:00:02\n",
      "   -------------- ------------------------- 6.8/18.7 MB 7.8 MB/s eta 0:00:02\n",
      "   --------------- ------------------------ 7.4/18.7 MB 8.0 MB/s eta 0:00:02\n",
      "   ---------------- ----------------------- 7.9/18.7 MB 8.1 MB/s eta 0:00:02\n",
      "   ------------------ --------------------- 8.5/18.7 MB 8.3 MB/s eta 0:00:02\n",
      "   ------------------- -------------------- 8.9/18.7 MB 8.4 MB/s eta 0:00:02\n",
      "   -------------------- ------------------- 9.5/18.7 MB 8.5 MB/s eta 0:00:02\n",
      "   --------------------- ------------------ 10.0/18.7 MB 8.6 MB/s eta 0:00:02\n",
      "   ---------------------- ----------------- 10.5/18.7 MB 10.1 MB/s eta 0:00:01\n",
      "   ----------------------- ---------------- 11.1/18.7 MB 10.6 MB/s eta 0:00:01\n",
      "   ------------------------- -------------- 11.7/18.7 MB 10.7 MB/s eta 0:00:01\n",
      "   ------------------------- -------------- 12.0/18.7 MB 10.9 MB/s eta 0:00:01\n",
      "   -------------------------- ------------- 12.2/18.7 MB 10.2 MB/s eta 0:00:01\n",
      "   --------------------------- ------------ 12.7/18.7 MB 12.1 MB/s eta 0:00:01\n",
      "   --------------------------- ------------ 13.0/18.7 MB 11.7 MB/s eta 0:00:01\n",
      "   ----------------------------- ---------- 13.7/18.7 MB 10.9 MB/s eta 0:00:01\n",
      "   ------------------------------ --------- 14.2/18.7 MB 10.6 MB/s eta 0:00:01\n",
      "   ------------------------------- -------- 14.9/18.7 MB 10.9 MB/s eta 0:00:01\n",
      "   -------------------------------- ------- 15.1/18.7 MB 10.9 MB/s eta 0:00:01\n",
      "   --------------------------------- ------ 15.6/18.7 MB 10.7 MB/s eta 0:00:01\n",
      "   ---------------------------------- ----- 16.1/18.7 MB 10.7 MB/s eta 0:00:01\n",
      "   ----------------------------------- ---- 16.8/18.7 MB 10.7 MB/s eta 0:00:01\n",
      "   ------------------------------------ --- 17.0/18.7 MB 10.7 MB/s eta 0:00:01\n",
      "   ------------------------------------ --- 17.2/18.7 MB 10.1 MB/s eta 0:00:01\n",
      "   ------------------------------------- -- 17.8/18.7 MB 10.2 MB/s eta 0:00:01\n",
      "   -------------------------------------- - 18.2/18.7 MB 10.1 MB/s eta 0:00:01\n",
      "   ---------------------------------------  18.7/18.7 MB 10.2 MB/s eta 0:00:01\n",
      "   ---------------------------------------  18.7/18.7 MB 10.2 MB/s eta 0:00:01\n",
      "   ---------------------------------------  18.7/18.7 MB 10.2 MB/s eta 0:00:01\n",
      "   ---------------------------------------- 18.7/18.7 MB 9.1 MB/s eta 0:00:00\n",
      "Installing collected packages: pymupdf\n",
      "Successfully installed pymupdf-1.26.3\n"
     ]
    },
    {
     "name": "stderr",
     "output_type": "stream",
     "text": [
      "  WARNING: The script pymupdf.exe is installed in 'C:\\Users\\patra\\AppData\\Roaming\\Python\\Python311\\Scripts' which is not on PATH.\n",
      "  Consider adding this directory to PATH or, if you prefer to suppress this warning, use --no-warn-script-location.\n"
     ]
    }
   ],
   "source": [
    "!pip install --upgrade pymupdf"
   ]
  },
  {
   "cell_type": "code",
   "execution_count": 6,
   "id": "a808948e",
   "metadata": {},
   "outputs": [],
   "source": [
    "import re\n",
    "import pymupdf\n",
    "import spacy"
   ]
  },
  {
   "cell_type": "markdown",
   "id": "1f71d791",
   "metadata": {},
   "source": [
    "# All task  related to Job desc"
   ]
  },
  {
   "cell_type": "code",
   "execution_count": 8,
   "id": "7637fe1c",
   "metadata": {},
   "outputs": [
    {
     "ename": "FileNotFoundError",
     "evalue": "[Errno 2] No such file or directory: 'job_desc.txt'",
     "output_type": "error",
     "traceback": [
      "\u001b[1;31m---------------------------------------------------------------------------\u001b[0m",
      "\u001b[1;31mFileNotFoundError\u001b[0m                         Traceback (most recent call last)",
      "Cell \u001b[1;32mIn[8], line 3\u001b[0m\n\u001b[0;32m      1\u001b[0m \u001b[38;5;66;03m#extract jobdescription\u001b[39;00m\n\u001b[0;32m      2\u001b[0m \u001b[38;5;66;03m# Job_desc\u001b[39;00m\n\u001b[1;32m----> 3\u001b[0m \u001b[38;5;28;01mwith\u001b[39;00m \u001b[38;5;28mopen\u001b[39m (\u001b[38;5;124m\"\u001b[39m\u001b[38;5;124mjob_desc.txt\u001b[39m\u001b[38;5;124m\"\u001b[39m,\u001b[38;5;124m'\u001b[39m\u001b[38;5;124mr\u001b[39m\u001b[38;5;124m'\u001b[39m) \u001b[38;5;28;01mas\u001b[39;00m f:\n\u001b[0;32m      4\u001b[0m     Job_desc \u001b[38;5;241m=\u001b[39m f\u001b[38;5;241m.\u001b[39mread()\n",
      "File \u001b[1;32mC:\\ProgramData\\anaconda3\\Lib\\site-packages\\IPython\\core\\interactiveshell.py:286\u001b[0m, in \u001b[0;36m_modified_open\u001b[1;34m(file, *args, **kwargs)\u001b[0m\n\u001b[0;32m    279\u001b[0m \u001b[38;5;28;01mif\u001b[39;00m file \u001b[38;5;129;01min\u001b[39;00m {\u001b[38;5;241m0\u001b[39m, \u001b[38;5;241m1\u001b[39m, \u001b[38;5;241m2\u001b[39m}:\n\u001b[0;32m    280\u001b[0m     \u001b[38;5;28;01mraise\u001b[39;00m \u001b[38;5;167;01mValueError\u001b[39;00m(\n\u001b[0;32m    281\u001b[0m         \u001b[38;5;124mf\u001b[39m\u001b[38;5;124m\"\u001b[39m\u001b[38;5;124mIPython won\u001b[39m\u001b[38;5;124m'\u001b[39m\u001b[38;5;124mt let you open fd=\u001b[39m\u001b[38;5;132;01m{\u001b[39;00mfile\u001b[38;5;132;01m}\u001b[39;00m\u001b[38;5;124m by default \u001b[39m\u001b[38;5;124m\"\u001b[39m\n\u001b[0;32m    282\u001b[0m         \u001b[38;5;124m\"\u001b[39m\u001b[38;5;124mas it is likely to crash IPython. If you know what you are doing, \u001b[39m\u001b[38;5;124m\"\u001b[39m\n\u001b[0;32m    283\u001b[0m         \u001b[38;5;124m\"\u001b[39m\u001b[38;5;124myou can use builtins\u001b[39m\u001b[38;5;124m'\u001b[39m\u001b[38;5;124m open.\u001b[39m\u001b[38;5;124m\"\u001b[39m\n\u001b[0;32m    284\u001b[0m     )\n\u001b[1;32m--> 286\u001b[0m \u001b[38;5;28;01mreturn\u001b[39;00m io_open(file, \u001b[38;5;241m*\u001b[39margs, \u001b[38;5;241m*\u001b[39m\u001b[38;5;241m*\u001b[39mkwargs)\n",
      "\u001b[1;31mFileNotFoundError\u001b[0m: [Errno 2] No such file or directory: 'job_desc.txt'"
     ]
    }
   ],
   "source": [
    "#extract jobdescription\n",
    "Job_desc\n",
    "with open (\"job_desc.txt\",'r') as f:\n",
    "    Job_desc = f.read()"
   ]
  },
  {
   "cell_type": "markdown",
   "id": "e1cecff6",
   "metadata": {},
   "source": [
    "Cleaning Jobdesc"
   ]
  },
  {
   "cell_type": "code",
   "execution_count": null,
   "id": "4c4a1635",
   "metadata": {},
   "outputs": [],
   "source": [
    "#to lower case convert\n",
    "Job_desc = Job_desc.lower()\n",
    "#regex matching\n",
    "Job_desc= re.sub(r'[•*\\-]', '', Job_desc)"
   ]
  },
  {
   "cell_type": "code",
   "execution_count": null,
   "id": "0be5b81e",
   "metadata": {},
   "outputs": [],
   "source": [
    "#lemmitization and stop word removing\n",
    "import spacy\n",
    "nlp = spacy.load(\"en_core_web_sm\")\n",
    "doc = nlp(Job_desc)\n",
    "#stop word removing\n",
    "filtered_token = []\n",
    "for token in doc:\n",
    "    if(token.is_stop==False):\n",
    "        filtered_token.append(token.text)\n",
    "stop_remove_jdsc = \" \".join(filtered_token)\n",
    "#lemmitized the whole string\n",
    "lemmitized_token=[ token.lemma_ for token in doc ]\n",
    "lemma_jdsc=\" \".join(lemmitized_token)\n",
    "print(lemma_jdsc)"
   ]
  },
  {
   "cell_type": "markdown",
   "id": "01b077ec",
   "metadata": {},
   "source": [
    "# All task related to Resume pdf"
   ]
  },
  {
   "cell_type": "code",
   "execution_count": 4,
   "id": "7ea47585",
   "metadata": {},
   "outputs": [
    {
     "ename": "FileNotFoundError",
     "evalue": "no such file: 'Avishek's resume.pdf'",
     "output_type": "error",
     "traceback": [
      "\u001b[1;31m---------------------------------------------------------------------------\u001b[0m",
      "\u001b[1;31mFileNotFoundError\u001b[0m                         Traceback (most recent call last)",
      "\u001b[1;32m~\\AppData\\Local\\Temp\\ipykernel_25076\\120260230.py\u001b[0m in \u001b[0;36m?\u001b[1;34m()\u001b[0m\n\u001b[1;32m----> 1\u001b[1;33m \u001b[0mdoc\u001b[0m \u001b[1;33m=\u001b[0m \u001b[0mpymupdf\u001b[0m\u001b[1;33m.\u001b[0m\u001b[0mopen\u001b[0m\u001b[1;33m(\u001b[0m\u001b[1;34m\"Avishek's resume.pdf\"\u001b[0m\u001b[1;33m)\u001b[0m\u001b[1;33m\u001b[0m\u001b[1;33m\u001b[0m\u001b[0m\n\u001b[0m",
      "\u001b[1;32m~\\AppData\\Roaming\\Python\\Python311\\site-packages\\pymupdf\\__init__.py\u001b[0m in \u001b[0;36m?\u001b[1;34m(self, filename, stream, filetype, rect, width, height, fontsize)\u001b[0m\n\u001b[0;32m   3012\u001b[0m                     \u001b[0mself\u001b[0m\u001b[1;33m.\u001b[0m\u001b[0mpage_count2\u001b[0m \u001b[1;33m=\u001b[0m \u001b[0mextra\u001b[0m\u001b[1;33m.\u001b[0m\u001b[0mpage_count_pdf\u001b[0m\u001b[1;33m\u001b[0m\u001b[1;33m\u001b[0m\u001b[0m\n\u001b[0;32m   3013\u001b[0m                 \u001b[1;32melse\u001b[0m\u001b[1;33m:\u001b[0m\u001b[1;33m\u001b[0m\u001b[1;33m\u001b[0m\u001b[0m\n\u001b[0;32m   3014\u001b[0m                     \u001b[0mself\u001b[0m\u001b[1;33m.\u001b[0m\u001b[0mpage_count2\u001b[0m \u001b[1;33m=\u001b[0m \u001b[0mextra\u001b[0m\u001b[1;33m.\u001b[0m\u001b[0mpage_count_fz\u001b[0m\u001b[1;33m\u001b[0m\u001b[1;33m\u001b[0m\u001b[0m\n\u001b[0;32m   3015\u001b[0m         \u001b[1;32mfinally\u001b[0m\u001b[1;33m:\u001b[0m\u001b[1;33m\u001b[0m\u001b[1;33m\u001b[0m\u001b[0m\n\u001b[1;32m-> 3016\u001b[1;33m             \u001b[0mJM_mupdf_show_errors\u001b[0m \u001b[1;33m=\u001b[0m \u001b[0mJM_mupdf_show_errors_old\u001b[0m\u001b[1;33m\u001b[0m\u001b[1;33m\u001b[0m\u001b[0m\n\u001b[0m",
      "\u001b[1;31mFileNotFoundError\u001b[0m: no such file: 'Avishek's resume.pdf'"
     ]
    }
   ],
   "source": [
    "\n",
    "doc = pymupdf.open(\"Avishek's resume.pdf\")"
   ]
  },
  {
   "cell_type": "code",
   "execution_count": 5,
   "id": "4b29fff2",
   "metadata": {},
   "outputs": [
    {
     "ename": "NameError",
     "evalue": "name 'doc' is not defined",
     "output_type": "error",
     "traceback": [
      "\u001b[1;31m---------------------------------------------------------------------------\u001b[0m",
      "\u001b[1;31mNameError\u001b[0m                                 Traceback (most recent call last)",
      "Cell \u001b[1;32mIn[5], line 3\u001b[0m\n\u001b[0;32m      1\u001b[0m \u001b[38;5;66;03m#extract text from the pdf\u001b[39;00m\n\u001b[0;32m      2\u001b[0m out \u001b[38;5;241m=\u001b[39m \u001b[38;5;28mopen\u001b[39m(\u001b[38;5;124m\"\u001b[39m\u001b[38;5;124moutput.txt\u001b[39m\u001b[38;5;124m\"\u001b[39m,\u001b[38;5;124m\"\u001b[39m\u001b[38;5;124mwb\u001b[39m\u001b[38;5;124m\"\u001b[39m)\n\u001b[1;32m----> 3\u001b[0m \u001b[38;5;28;01mfor\u001b[39;00m page \u001b[38;5;129;01min\u001b[39;00m doc:\n\u001b[0;32m      4\u001b[0m     text \u001b[38;5;241m=\u001b[39m page\u001b[38;5;241m.\u001b[39mget_text()\u001b[38;5;241m.\u001b[39mencode(\u001b[38;5;124m\"\u001b[39m\u001b[38;5;124mutf8\u001b[39m\u001b[38;5;124m\"\u001b[39m)\n\u001b[0;32m      5\u001b[0m     out\u001b[38;5;241m.\u001b[39mwrite(text)\n",
      "\u001b[1;31mNameError\u001b[0m: name 'doc' is not defined"
     ]
    }
   ],
   "source": [
    "#extract text from the pdf\n",
    "out = open(\"output.txt\",\"wb\")\n",
    "for page in doc:\n",
    "    text = page.get_text().encode(\"utf8\")\n",
    "    out.write(text)\n",
    "    out.write(bytes((12,)))\n",
    "out.close()"
   ]
  },
  {
   "cell_type": "code",
   "execution_count": 10,
   "id": "b19b4cce",
   "metadata": {},
   "outputs": [
    {
     "name": "stdout",
     "output_type": "stream",
     "text": [
      "['patraavishe881@gmail.com']\n"
     ]
    }
   ],
   "source": [
    "\n",
    "resume_text=\"\"\n",
    "with open(\"output.txt\",\"r\",encoding=\"utf8\") as f:\n",
    "    resume_text = f.read()\n",
    "candidate_email = re.findall(r\"[A-Za-z0-9._%+-]+@[A-Za-z0-9.-]+\\.[A-Za-z]{2,}\", resume_text)\n",
    "print(candidate_email)"
   ]
  },
  {
   "cell_type": "markdown",
   "id": "a9570df7",
   "metadata": {},
   "source": [
    "Cleanig Resume text"
   ]
  },
  {
   "cell_type": "code",
   "execution_count": 62,
   "id": "e8de1b23",
   "metadata": {},
   "outputs": [],
   "source": [
    "#cleaning Resume text\n",
    "resume_text = resume_text.strip()\n",
    "resume_text = resume_text.lower()\n",
    "resume_text = re.sub(r\"[0-9]\",\"\",resume_text)\n",
    "resume_text = re.sub(r\"(linkedin|github)\",\"\",resume_text)\n",
    "resume_text = re.sub(r\"link\",\"\",resume_text)\n",
    "resume_text = re.sub(r\"(:|-)\",\"\",resume_text)\n",
    "candidate_email = re.findall(r\"[A-Za-z0-9._%+-]+@[A-Za-z0-9.-]+\\.[A-Za-z]{2,}\", resume_text)\n",
    "resume_text = re.sub(r\"\\S+@\\S+\",\"\",resume_text)\n",
    "resume_text = re.sub(r\"(email|gmail|mail)\",\"\",resume_text)\n",
    "resume_text = re.sub(r\"(contact|mobile|phone)\",\"\",resume_text)\n",
    "resume_text = re.sub(r\"http?s://\\S+\",\"\",resume_text)\n",
    "resume_text = re.sub(r\"www\\.\\S+\",\"\",resume_text)\n",
    "resume_text = re.sub(r'[•*\\-+]', '', resume_text)\n"
   ]
  },
  {
   "cell_type": "code",
   "execution_count": 1,
   "id": "f9eb99ec",
   "metadata": {},
   "outputs": [
    {
     "ename": "NameError",
     "evalue": "name 'nlp' is not defined",
     "output_type": "error",
     "traceback": [
      "\u001b[1;31m---------------------------------------------------------------------------\u001b[0m",
      "\u001b[1;31mNameError\u001b[0m                                 Traceback (most recent call last)",
      "Cell \u001b[1;32mIn[1], line 2\u001b[0m\n\u001b[0;32m      1\u001b[0m \u001b[38;5;66;03m#remove stop words\u001b[39;00m\n\u001b[1;32m----> 2\u001b[0m doc2 \u001b[38;5;241m=\u001b[39m nlp(resume_text)\n\u001b[0;32m      4\u001b[0m stop_word_re_resume\u001b[38;5;241m=\u001b[39m[]\n\u001b[0;32m      5\u001b[0m \u001b[38;5;28;01mfor\u001b[39;00m token \u001b[38;5;129;01min\u001b[39;00m doc2:\n",
      "\u001b[1;31mNameError\u001b[0m: name 'nlp' is not defined"
     ]
    }
   ],
   "source": [
    "#remove stop words\n",
    "doc2 = nlp(resume_text)\n",
    "\n",
    "stop_word_re_resume=[]\n",
    "for token in doc2:\n",
    "    if(token.is_stop==False):\n",
    "        stop_word_re_resume.append(token.text)\n",
    "filtered_resume1 = \" \".join(stop_word_re_resume)\n",
    "lemmitize_toekn=[token.lemma_  for token in doc2]\n",
    "lemme_resume = \" \".join(lemmitize_toekn)\n",
    "print(lemme_resume)\n"
   ]
  },
  {
   "cell_type": "code",
   "execution_count": null,
   "id": "4b343ee3",
   "metadata": {},
   "outputs": [],
   "source": []
  }
 ],
 "metadata": {
  "kernelspec": {
   "display_name": "Python 3 (ipykernel)",
   "language": "python",
   "name": "python3"
  },
  "language_info": {
   "codemirror_mode": {
    "name": "ipython",
    "version": 3
   },
   "file_extension": ".py",
   "mimetype": "text/x-python",
   "name": "python",
   "nbconvert_exporter": "python",
   "pygments_lexer": "ipython3",
   "version": "3.11.5"
  }
 },
 "nbformat": 4,
 "nbformat_minor": 5
}
