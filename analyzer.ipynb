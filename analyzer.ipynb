{
 "cells": [
  {
   "cell_type": "code",
   "execution_count": 1,
   "id": "a808948e",
   "metadata": {},
   "outputs": [],
   "source": [
    "import re\n",
    "import pymupdf\n",
    "import spacy"
   ]
  },
  {
   "cell_type": "markdown",
   "id": "1f71d791",
   "metadata": {},
   "source": [
    "# All task  related to Job desc"
   ]
  },
  {
   "cell_type": "code",
   "execution_count": 2,
   "id": "7637fe1c",
   "metadata": {},
   "outputs": [
    {
     "ename": "UnicodeDecodeError",
     "evalue": "'utf-8' codec can't decode byte 0x96 in position 778: invalid start byte",
     "output_type": "error",
     "traceback": [
      "\u001b[1;31m---------------------------------------------------------------------------\u001b[0m",
      "\u001b[1;31mUnicodeDecodeError\u001b[0m                        Traceback (most recent call last)",
      "Cell \u001b[1;32mIn[2], line 4\u001b[0m\n\u001b[0;32m      1\u001b[0m \u001b[38;5;66;03m#extract jobdescription\u001b[39;00m\n\u001b[0;32m      2\u001b[0m \u001b[38;5;66;03m# Job_desc\u001b[39;00m\n\u001b[0;32m      3\u001b[0m \u001b[38;5;28;01mwith\u001b[39;00m \u001b[38;5;28mopen\u001b[39m (\u001b[38;5;124m\"\u001b[39m\u001b[38;5;124mjob_desc.txt\u001b[39m\u001b[38;5;124m\"\u001b[39m,\u001b[38;5;124m'\u001b[39m\u001b[38;5;124mr\u001b[39m\u001b[38;5;124m'\u001b[39m) \u001b[38;5;28;01mas\u001b[39;00m f:\n\u001b[1;32m----> 4\u001b[0m     Job_desc \u001b[38;5;241m=\u001b[39m f\u001b[38;5;241m.\u001b[39mread()\n",
      "File \u001b[1;32m<frozen codecs>:322\u001b[0m, in \u001b[0;36mdecode\u001b[1;34m(self, input, final)\u001b[0m\n",
      "\u001b[1;31mUnicodeDecodeError\u001b[0m: 'utf-8' codec can't decode byte 0x96 in position 778: invalid start byte"
     ]
    }
   ],
   "source": [
    "#extract jobdescription\n",
    "# Job_desc\n",
    "with open (\"job_desc.txt\",'r') as f:\n",
    "    Job_desc = f.read()"
   ]
  },
  {
   "cell_type": "markdown",
   "id": "e1cecff6",
   "metadata": {},
   "source": [
    "Cleaning Jobdesc"
   ]
  },
  {
   "cell_type": "code",
   "execution_count": null,
   "id": "4c4a1635",
   "metadata": {},
   "outputs": [],
   "source": [
    "# cleaning --> to lower case convert regex matching\n",
    "Job_desc = Job_desc.lower()\n",
    "Job_desc = re.sub('[^a-zA-Z]',' ',Job_desc)"
   ]
  },
  {
   "cell_type": "code",
   "execution_count": null,
   "id": "0be5b81e",
   "metadata": {},
   "outputs": [],
   "source": [
    "#nlp -->lemmitization and stop word removing\n",
    "nlp = spacy.load(\"en_core_web_sm\")\n",
    "doc_jobDesc = nlp(Job_desc)\n",
    "filtered_token = [token.lemma_ for token in doc_jobDesc if not token.is_stop]\n",
    "corpus_jdsc=\" \".join(filtered_token)\n",
    "print(corpus_jdsc)"
   ]
  },
  {
   "cell_type": "markdown",
   "id": "01b077ec",
   "metadata": {},
   "source": [
    "# All task related to Resume pdf"
   ]
  },
  {
   "cell_type": "code",
   "execution_count": 58,
   "id": "7ea47585",
   "metadata": {},
   "outputs": [],
   "source": [
    "doc = pymupdf.open(\"Avishek's resume.pdf\")"
   ]
  },
  {
   "cell_type": "code",
   "execution_count": 59,
   "id": "4b29fff2",
   "metadata": {},
   "outputs": [],
   "source": [
    "#extract text from the pdf\n",
    "out = open(\"output.txt\",\"wb\")\n",
    "for page in doc:\n",
    "    text = page.get_text().encode(\"utf8\")\n",
    "    out.write(text)\n",
    "    out.write(bytes((12,)))\n",
    "out.close()"
   ]
  },
  {
   "cell_type": "code",
   "execution_count": 60,
   "id": "b19b4cce",
   "metadata": {},
   "outputs": [
    {
     "name": "stdout",
     "output_type": "stream",
     "text": [
      "['patraavishe881@gmail.com']\n"
     ]
    }
   ],
   "source": [
    "\n",
    "resume_text=\"\"\n",
    "with open(\"output.txt\",\"r\",encoding=\"utf8\") as f:\n",
    "    resume_text = f.read()\n",
    "candidate_email = re.findall(r\"[A-Za-z0-9._%+-]+@[A-Za-z0-9.-]+\\.[A-Za-z]{2,}\", resume_text)\n",
    "print(candidate_email)"
   ]
  },
  {
   "cell_type": "markdown",
   "id": "a9570df7",
   "metadata": {},
   "source": [
    "Cleanig Resume text"
   ]
  },
  {
   "cell_type": "code",
   "execution_count": 73,
   "id": "e8de1b23",
   "metadata": {},
   "outputs": [],
   "source": [
    "#cleaning Resume text\n",
    "resume_text = re.sub('[^a-zA-Z]',' ',resume_text)\n",
    "resume_text = resume_text.strip()\n",
    "resume_text = resume_text.lower()\n",
    "resume_text = re.sub(r\"[0-9]\",\"\",resume_text)\n",
    "resume_text = re.sub(r\"(linkedin|github)\",\"\",resume_text)\n",
    "resume_text = re.sub(r\"link\",\"\",resume_text)\n",
    "resume_text = re.sub(r\"(:|-)\",\"\",resume_text)\n",
    "candidate_email = re.findall(r\"[A-Za-z0-9._%+-]+@[A-Za-z0-9.-]+\\.[A-Za-z]{2,}\", resume_text)\n",
    "resume_text = re.sub(r\"\\S+@\\S+\",\"\",resume_text)\n",
    "resume_text = re.sub(r\"(email|gmail|mail)\",\"\",resume_text)\n",
    "resume_text = re.sub(r\"(contact|mobile|phone)\",\"\",resume_text)\n",
    "resume_text = re.sub(r\"http?s://\\S+\",\"\",resume_text)\n",
    "resume_text = re.sub(r\"www\\.\\S+\",\"\",resume_text)\n",
    "resume_text = re.sub(r'[•*\\-+]', '', resume_text)"
   ]
  },
  {
   "cell_type": "code",
   "execution_count": 72,
   "id": "f9eb99ec",
   "metadata": {},
   "outputs": [
    {
     "data": {
      "text/plain": [
       "'avishek patra                                                                                                                                                       patraavishe      com                                                                                                                                                                                            education   ramakrishnan mission vivekanada                                              july                                                vivekanada centenary college                                                                rahara   kolkata   india   bachelor s computer science    gpa                                                                                                                                              skill summary     language                                  c     javascript typescript python     framework                            js   express js   react js   langchain     tool    technology          thunder client   docker   git   postman   rest apis graphql     problem solve                    datum structure    algorithm   competitive programming     database                                   mongodb    mysql           soft skill                                  time management   public speak                                                                             work experience   walmart usa advanced software engineer virtual experience program forage   february     march         participate advanced software engineering job simulation   solve complex   technical challenge multiple walmart team        develop novel version heap datum structure javascript walmart s shipping   department   showcase strong problem solve algorithmic skill       design uml class diagram data processor   consider different operating                                                                                                                                                                 project   film fusion    movie ticket booking web app   mern stack                   build stack movie booking platform dynamic seat selection payment                   integration stripe                 implement personalize movie recommendation system matrix factorization                   collaborative filter technique machine learning   predict user preference                     enhance engagement                 include dedicated admin panel manage listing toggle global setting like                  recommendation visibility                  implement authentication oauth google     custom credential                  provider    truefeedback    user feedback collection platform   js                   develop responsive platform collect analyse user feedback                 integrate genai   openai api   auto suggest feedback message   enhance user                 interaction engagement                 implement real time form validation   admin moderation   dashboard analytic                                                                                                                    certificate   complete python        training    iit bombay                                                            april                master fundamental python concept   include control flow   loop   function              datum structure oop concept            acquire expertise procedural programming knowledge   datum manipulation panda    introduction data science machine learning                                                     sept                gain foundational knowledge datum science concept   include datum preprocesse                 exploratory datum analysis   model evaluation    problem solve   intermediate     hacker rank                                                       january               demonstrate strong analytical algorithmic thinking code challenge           solve problem involve data structure   recursion   time complexity            optimization'"
      ]
     },
     "execution_count": 72,
     "metadata": {},
     "output_type": "execute_result"
    }
   ],
   "source": [
    "#remove stop words\n",
    "doc_resume = nlp(resume_text)\n",
    "token_resume = [token.lemma_ for token in doc_resume if not token.is_stop]\n",
    "corpus_resume = ' '.join(token_resume)\n",
    "corpus_resume"
   ]
  },
  {
   "cell_type": "code",
   "execution_count": null,
   "id": "4b343ee3",
   "metadata": {},
   "outputs": [],
   "source": []
  }
 ],
 "metadata": {
  "kernelspec": {
   "display_name": "base",
   "language": "python",
   "name": "python3"
  },
  "language_info": {
   "codemirror_mode": {
    "name": "ipython",
    "version": 3
   },
   "file_extension": ".py",
   "mimetype": "text/x-python",
   "name": "python",
   "nbconvert_exporter": "python",
   "pygments_lexer": "ipython3",
   "version": "3.11.5"
  }
 },
 "nbformat": 4,
 "nbformat_minor": 5
}
