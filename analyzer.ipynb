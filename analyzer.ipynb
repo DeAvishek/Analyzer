{
 "cells": [
  {
   "cell_type": "code",
   "execution_count": 5,
   "id": "a808948e",
   "metadata": {},
   "outputs": [],
   "source": [
    "import re\n",
    "import pymupdf\n",
    "import spacy"
   ]
  },
  {
   "cell_type": "markdown",
   "id": "1f71d791",
   "metadata": {},
   "source": [
    "# All task  related to Job desc"
   ]
  },
  {
   "cell_type": "code",
   "execution_count": 6,
   "id": "7637fe1c",
   "metadata": {},
   "outputs": [],
   "source": [
    "#extract jobdescription\n",
    "# Job_desc\n",
    "with open (\"job_desc.txt\",'r') as f:\n",
    "    Job_desc = f.read()"
   ]
  },
  {
   "cell_type": "markdown",
   "id": "e1cecff6",
   "metadata": {},
   "source": [
    "Cleaning Jobdesc"
   ]
  },
  {
   "cell_type": "code",
   "execution_count": 7,
   "id": "4c4a1635",
   "metadata": {},
   "outputs": [],
   "source": [
    "# cleaning --> to lower case convert regex matching\n",
    "Job_desc = Job_desc.lower()\n",
    "Job_desc = re.sub('[^a-zA-Z]',' ',Job_desc)"
   ]
  },
  {
   "cell_type": "code",
   "execution_count": 8,
   "id": "0be5b81e",
   "metadata": {},
   "outputs": [
    {
     "name": "stdout",
     "output_type": "stream",
     "text": [
      "position   software developer   stack    backend   location   remote    kolkata   india employment type   internship    time role seek motivated skilled software developer strong expertise javascript typescript   c     python   couple hand experience backend system   web development   problem solve data structure    algorithm   ideal candidate passionate build scalable application   work modern framework   solve real world technical challenge   key responsibility design   develop   maintain stack application js   react js   express js   mongodb mysql   implement rest apis graphql service   ensure performance security   work machine learning powered feature recommendation system ai assist workflow   collaborate team analyze requirement create system design   uml   diagram   etc     apply strong problem solve algorithmic thinking optimize backend performance   develop   test   deploy application docker   git   ci cd workflow   ensure seamless user experience authentication system   oauth   google login   custom provider    communicate effectively manage task deadline   require skill language   c     javascript   typescript   python framework   js   react js   express js database   mongodb   mysql tool    tech   docker   git   postman   thunder client   rest apis   graphql strong dsa knowledge   competitive programming mindset   debug skill prefer qualification experience payment gateway integration   stripe   razorpay    hand recommendation system basic machine learning concept   knowledge genai apis   e g    openai   langchain    prior exposure virtual experience program   e g    walmart forage    education bachelor s computer science equivalence relate computer science  \n"
     ]
    }
   ],
   "source": [
    "#nlp -->lemmitization and stop word removing\n",
    "nlp = spacy.load(\"en_core_web_sm\")\n",
    "doc_jobDesc = nlp(Job_desc)\n",
    "filtered_token = [token.lemma_ for token in doc_jobDesc if not token.is_stop]\n",
    "corpus_jdsc=\" \".join(filtered_token)\n",
    "print(corpus_jdsc)"
   ]
  },
  {
   "cell_type": "markdown",
   "id": "01b077ec",
   "metadata": {},
   "source": [
    "# All task related to Resume pdf"
   ]
  },
  {
   "cell_type": "code",
   "execution_count": 9,
   "id": "7ea47585",
   "metadata": {},
   "outputs": [],
   "source": [
    "doc = pymupdf.open(\"Avishek's resume.pdf\")"
   ]
  },
  {
   "cell_type": "code",
   "execution_count": 10,
   "id": "4b29fff2",
   "metadata": {},
   "outputs": [],
   "source": [
    "#extract text from the pdf\n",
    "out = open(\"output.txt\",\"wb\")\n",
    "for page in doc:\n",
    "    text = page.get_text().encode(\"utf8\")\n",
    "    out.write(text)\n",
    "    out.write(bytes((12,)))\n",
    "out.close()"
   ]
  },
  {
   "cell_type": "code",
   "execution_count": 11,
   "id": "b19b4cce",
   "metadata": {},
   "outputs": [
    {
     "name": "stdout",
     "output_type": "stream",
     "text": [
      "['patraavishe881@gmail.com']\n"
     ]
    }
   ],
   "source": [
    "\n",
    "resume_text=\"\"\n",
    "with open(\"output.txt\",\"r\",encoding=\"utf8\") as f:\n",
    "    resume_text = f.read()\n",
    "candidate_email = re.findall(r\"[A-Za-z0-9._%+-]+@[A-Za-z0-9.-]+\\.[A-Za-z]{2,}\", resume_text)\n",
    "print(candidate_email)"
   ]
  },
  {
   "cell_type": "markdown",
   "id": "a9570df7",
   "metadata": {},
   "source": [
    "Cleanig Resume text"
   ]
  },
  {
   "cell_type": "code",
   "execution_count": 12,
   "id": "e8de1b23",
   "metadata": {},
   "outputs": [],
   "source": [
    "#cleaning Resume text\n",
    "resume_text = re.sub('[^a-zA-Z]',' ',resume_text)\n",
    "resume_text = resume_text.strip()\n",
    "resume_text = resume_text.lower()\n",
    "resume_text = re.sub(r\"[0-9]\",\"\",resume_text)\n",
    "resume_text = re.sub(r\"(linkedin|github)\",\"\",resume_text)\n",
    "resume_text = re.sub(r\"link\",\"\",resume_text)\n",
    "resume_text = re.sub(r\"(:|-)\",\"\",resume_text)\n",
    "candidate_email = re.findall(r\"[A-Za-z0-9._%+-]+@[A-Za-z0-9.-]+\\.[A-Za-z]{2,}\", resume_text)\n",
    "resume_text = re.sub(r\"\\S+@\\S+\",\"\",resume_text)\n",
    "resume_text = re.sub(r\"(email|gmail|mail)\",\"\",resume_text)\n",
    "resume_text = re.sub(r\"(contact|mobile|phone)\",\"\",resume_text)\n",
    "resume_text = re.sub(r\"http?s://\\S+\",\"\",resume_text)\n",
    "resume_text = re.sub(r\"www\\.\\S+\",\"\",resume_text)\n",
    "resume_text = re.sub(r'[•*\\-+]', '', resume_text)"
   ]
  },
  {
   "cell_type": "code",
   "execution_count": 13,
   "id": "f9eb99ec",
   "metadata": {},
   "outputs": [
    {
     "data": {
      "text/plain": [
       "'avishek patra                                                                                                                                                       patraavishe      com                                                                                                                                                                                            education   ramakrishnan mission vivekanada                                              july                                                vivekanada centenary college                                                                rahara   kolkata   india   bachelor s computer science    gpa                                                                                                                                              skill summary     language                                  c     javascript typescript python     framework                            js   express js   react js   langchain     tool    technology          thunder client   docker   git   postman   rest apis graphql     problem solve                    datum structure    algorithm   competitive programming     database                                   mongodb    mysql           soft skill                                  time management   public speak                                                                             work experience   walmart usa advanced software engineer virtual experience program forage   february     march         participate advanced software engineering job simulation   solve complex   technical challenge multiple walmart team        develop novel version heap datum structure javascript walmart s shipping   department   showcase strong problem solve algorithmic skill       design uml class diagram data processor   consider different operating                                                                                                                                                                 project   film fusion    movie ticket booking web app   mern stack                   build stack movie booking platform dynamic seat selection payment                   integration stripe                 implement personalize movie recommendation system matrix factorization                   collaborative filter technique machine learning   predict user preference                     enhance engagement                 include dedicated admin panel manage listing toggle global setting like                  recommendation visibility                  implement authentication oauth google     custom credential                  provider    truefeedback    user feedback collection platform   js                   develop responsive platform collect analyse user feedback                 integrate genai   openai api   auto suggest feedback message   enhance user                 interaction engagement                 implement real time form validation   admin moderation   dashboard analytic                                                                                                                    certificate   complete python        training    iit bombay                                                            april                master fundamental python concept   include control flow   loop   function              datum structure oop concept            acquire expertise procedural programming knowledge   datum manipulation panda    introduction data science machine learning                                                     sept                gain foundational knowledge datum science concept   include datum preprocesse                 exploratory datum analysis   model evaluation    problem solve   intermediate     hacker rank                                                       january               demonstrate strong analytical algorithmic thinking code challenge           solve problem involve data structure   recursion   time complexity            optimization'"
      ]
     },
     "execution_count": 13,
     "metadata": {},
     "output_type": "execute_result"
    }
   ],
   "source": [
    "#remove stop words\n",
    "doc_resume = nlp(resume_text)\n",
    "token_resume = [token.lemma_ for token in doc_resume if not token.is_stop]\n",
    "corpus_resume = ' '.join(token_resume)\n",
    "print(corpus_resume)"
   ]
  },
  {
   "cell_type": "markdown",
   "id": "a8d404d6",
   "metadata": {},
   "source": [
    "# Skill matchin by spacy rule based matching"
   ]
  },
  {
   "cell_type": "code",
   "execution_count": 90,
   "id": "9bf2a943",
   "metadata": {},
   "outputs": [],
   "source": [
    "import pandas as pd\n",
    "import numpy as np\n",
    "from spacy.matcher import Matcher\n",
    "import spacy"
   ]
  },
  {
   "cell_type": "code",
   "execution_count": 91,
   "id": "04aa519d",
   "metadata": {},
   "outputs": [],
   "source": [
    "skill_csv = pd.read_csv('skill_list.csv')\n",
    "skill_array = np.array(skill_csv['skill'])"
   ]
  },
  {
   "cell_type": "code",
   "execution_count": 99,
   "id": "5a98f8cc",
   "metadata": {},
   "outputs": [],
   "source": [
    "#spacy rule based matching\n",
    "nlp_match = spacy.load(\"en_core_web_sm\")\n",
    "doc = nlp_match(corpus_jdsc)\n",
    "matcher = Matcher(nlp_match.vocab)\n",
    "#first have to match between skill list and jobdesc\n",
    "for skill in skill_array:\n",
    "    skill = skill.lower();\n",
    "    pattern = [{\"LOWER\": skill}]  \n",
    "    matcher.add(skill, [pattern])\n",
    "matches = matcher(doc)\n"
   ]
  },
  {
   "cell_type": "code",
   "execution_count": 102,
   "id": "8d119a56",
   "metadata": {},
   "outputs": [
    {
     "name": "stdout",
     "output_type": "stream",
     "text": [
      "{'mysql', 'typescript', 'postman', 'c', 'graphql', 'python', 'git', 'react', 'express', 'docker', 'langchain', 'mongodb', 'javascript'}\n"
     ]
    }
   ],
   "source": [
    "jobdesc_skill = set()\n",
    "for match_id, start, end in matches:\n",
    "    string_id = nlp_match.vocab.strings[match_id]  # Get string representation\n",
    "    span = doc[start:end]  # The matched span\n",
    "    jobdesc_skill.add(string_id)\n",
    "print(jobdesc_skill)  "
   ]
  },
  {
   "cell_type": "markdown",
   "id": "151f0945",
   "metadata": {},
   "source": [
    "# TF-IDF Vectorizer"
   ]
  },
  {
   "cell_type": "code",
   "execution_count": 44,
   "id": "dae5bb4f",
   "metadata": {},
   "outputs": [],
   "source": [
    "from sklearn.feature_extraction.text import TfidfVectorizer"
   ]
  },
  {
   "cell_type": "code",
   "execution_count": 48,
   "id": "1ea53724",
   "metadata": {},
   "outputs": [],
   "source": [
    "tf_idf = TfidfVectorizer()\n",
    "vectors = tf_idf.fit_transform([corpus_resume,corpus_jdsc])"
   ]
  },
  {
   "cell_type": "code",
   "execution_count": 49,
   "id": "92053bd5",
   "metadata": {},
   "outputs": [
    {
     "data": {
      "text/plain": [
       "array([[0.37576434]])"
      ]
     },
     "execution_count": 49,
     "metadata": {},
     "output_type": "execute_result"
    }
   ],
   "source": [
    "#finding cosine similarity\n",
    "from sklearn.metrics.pairwise import cosine_similarity\n",
    "similarity_score = cosine_similarity(vectors[0],vectors[1])\n",
    "similarity_score"
   ]
  },
  {
   "cell_type": "code",
   "execution_count": null,
   "id": "a2eef7ba",
   "metadata": {},
   "outputs": [],
   "source": []
  },
  {
   "cell_type": "code",
   "execution_count": null,
   "id": "84d28a77",
   "metadata": {},
   "outputs": [],
   "source": []
  }
 ],
 "metadata": {
  "kernelspec": {
   "display_name": "Python 3 (ipykernel)",
   "language": "python",
   "name": "python3"
  },
  "language_info": {
   "codemirror_mode": {
    "name": "ipython",
    "version": 3
   },
   "file_extension": ".py",
   "mimetype": "text/x-python",
   "name": "python",
   "nbconvert_exporter": "python",
   "pygments_lexer": "ipython3",
   "version": "3.11.5"
  }
 },
 "nbformat": 4,
 "nbformat_minor": 5
}
