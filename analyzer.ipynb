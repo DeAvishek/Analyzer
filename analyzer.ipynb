{
 "cells": [
  {
   "cell_type": "code",
   "execution_count": 1,
   "id": "3194a5ce",
   "metadata": {},
   "outputs": [
    {
     "name": "stdout",
     "output_type": "stream",
     "text": [
      "Defaulting to user installation because normal site-packages is not writeable\n",
      "Collecting pymupdf\n",
      "  Obtaining dependency information for pymupdf from https://files.pythonhosted.org/packages/4a/26/8c72973b8833a72785cedc3981eb59b8ac7075942718bbb7b69b352cdde4/pymupdf-1.26.3-cp39-abi3-win_amd64.whl.metadata\n",
      "  Downloading pymupdf-1.26.3-cp39-abi3-win_amd64.whl.metadata (3.4 kB)\n",
      "Downloading pymupdf-1.26.3-cp39-abi3-win_amd64.whl (18.7 MB)\n",
      "   ---------------------------------------- 0.0/18.7 MB ? eta -:--:--\n",
      "   ---------------------------------------- 0.0/18.7 MB ? eta -:--:--\n",
      "   ---------------------------------------- 0.0/18.7 MB 682.7 kB/s eta 0:00:28\n",
      "   ---------------------------------------- 0.0/18.7 MB 393.8 kB/s eta 0:00:48\n",
      "   ---------------------------------------- 0.1/18.7 MB 819.2 kB/s eta 0:00:23\n",
      "    --------------------------------------- 0.2/18.7 MB 1.3 MB/s eta 0:00:15\n",
      "   - -------------------------------------- 0.5/18.7 MB 2.0 MB/s eta 0:00:10\n",
      "   - -------------------------------------- 0.8/18.7 MB 3.0 MB/s eta 0:00:07\n",
      "   -- ------------------------------------- 1.2/18.7 MB 3.9 MB/s eta 0:00:05\n",
      "   --- ------------------------------------ 1.6/18.7 MB 4.6 MB/s eta 0:00:04\n",
      "   ---- ----------------------------------- 2.1/18.7 MB 5.0 MB/s eta 0:00:04\n",
      "   ---- ----------------------------------- 2.1/18.7 MB 4.7 MB/s eta 0:00:04\n",
      "   ---- ----------------------------------- 2.1/18.7 MB 4.7 MB/s eta 0:00:04\n",
      "   ---- ----------------------------------- 2.1/18.7 MB 4.7 MB/s eta 0:00:04\n",
      "   -------- ------------------------------- 3.8/18.7 MB 6.3 MB/s eta 0:00:03\n",
      "   -------- ------------------------------- 4.2/18.7 MB 6.5 MB/s eta 0:00:03\n",
      "   --------- ------------------------------ 4.7/18.7 MB 6.8 MB/s eta 0:00:03\n",
      "   ---------- ----------------------------- 5.0/18.7 MB 6.8 MB/s eta 0:00:02\n",
      "   ------------ --------------------------- 5.6/18.7 MB 7.2 MB/s eta 0:00:02\n",
      "   ------------ --------------------------- 6.1/18.7 MB 7.5 MB/s eta 0:00:02\n",
      "   -------------- ------------------------- 6.8/18.7 MB 7.8 MB/s eta 0:00:02\n",
      "   --------------- ------------------------ 7.4/18.7 MB 8.0 MB/s eta 0:00:02\n",
      "   ---------------- ----------------------- 7.9/18.7 MB 8.1 MB/s eta 0:00:02\n",
      "   ------------------ --------------------- 8.5/18.7 MB 8.3 MB/s eta 0:00:02\n",
      "   ------------------- -------------------- 8.9/18.7 MB 8.4 MB/s eta 0:00:02\n",
      "   -------------------- ------------------- 9.5/18.7 MB 8.5 MB/s eta 0:00:02\n",
      "   --------------------- ------------------ 10.0/18.7 MB 8.6 MB/s eta 0:00:02\n",
      "   ---------------------- ----------------- 10.5/18.7 MB 10.1 MB/s eta 0:00:01\n",
      "   ----------------------- ---------------- 11.1/18.7 MB 10.6 MB/s eta 0:00:01\n",
      "   ------------------------- -------------- 11.7/18.7 MB 10.7 MB/s eta 0:00:01\n",
      "   ------------------------- -------------- 12.0/18.7 MB 10.9 MB/s eta 0:00:01\n",
      "   -------------------------- ------------- 12.2/18.7 MB 10.2 MB/s eta 0:00:01\n",
      "   --------------------------- ------------ 12.7/18.7 MB 12.1 MB/s eta 0:00:01\n",
      "   --------------------------- ------------ 13.0/18.7 MB 11.7 MB/s eta 0:00:01\n",
      "   ----------------------------- ---------- 13.7/18.7 MB 10.9 MB/s eta 0:00:01\n",
      "   ------------------------------ --------- 14.2/18.7 MB 10.6 MB/s eta 0:00:01\n",
      "   ------------------------------- -------- 14.9/18.7 MB 10.9 MB/s eta 0:00:01\n",
      "   -------------------------------- ------- 15.1/18.7 MB 10.9 MB/s eta 0:00:01\n",
      "   --------------------------------- ------ 15.6/18.7 MB 10.7 MB/s eta 0:00:01\n",
      "   ---------------------------------- ----- 16.1/18.7 MB 10.7 MB/s eta 0:00:01\n",
      "   ----------------------------------- ---- 16.8/18.7 MB 10.7 MB/s eta 0:00:01\n",
      "   ------------------------------------ --- 17.0/18.7 MB 10.7 MB/s eta 0:00:01\n",
      "   ------------------------------------ --- 17.2/18.7 MB 10.1 MB/s eta 0:00:01\n",
      "   ------------------------------------- -- 17.8/18.7 MB 10.2 MB/s eta 0:00:01\n",
      "   -------------------------------------- - 18.2/18.7 MB 10.1 MB/s eta 0:00:01\n",
      "   ---------------------------------------  18.7/18.7 MB 10.2 MB/s eta 0:00:01\n",
      "   ---------------------------------------  18.7/18.7 MB 10.2 MB/s eta 0:00:01\n",
      "   ---------------------------------------  18.7/18.7 MB 10.2 MB/s eta 0:00:01\n",
      "   ---------------------------------------- 18.7/18.7 MB 9.1 MB/s eta 0:00:00\n",
      "Installing collected packages: pymupdf\n",
      "Successfully installed pymupdf-1.26.3\n"
     ]
    },
    {
     "name": "stderr",
     "output_type": "stream",
     "text": [
      "  WARNING: The script pymupdf.exe is installed in 'C:\\Users\\patra\\AppData\\Roaming\\Python\\Python311\\Scripts' which is not on PATH.\n",
      "  Consider adding this directory to PATH or, if you prefer to suppress this warning, use --no-warn-script-location.\n"
     ]
    }
   ],
   "source": [
    "!pip install --upgrade pymupdf"
   ]
  },
  {
   "cell_type": "code",
   "execution_count": 40,
   "id": "a808948e",
   "metadata": {},
   "outputs": [],
   "source": [
    "import re\n",
    "import pymupdf\n",
    "import spacy"
   ]
  },
  {
   "cell_type": "markdown",
   "id": "1f71d791",
   "metadata": {},
   "source": [
    "# All task  related to Job desc"
   ]
  },
  {
   "cell_type": "code",
   "execution_count": 12,
   "id": "7637fe1c",
   "metadata": {},
   "outputs": [],
   "source": [
    "#extract jobdescription\n",
    "Job_desc\n",
    "with open (\"job_desc.txt\",'r') as f:\n",
    "    Job_desc = f.read()"
   ]
  },
  {
   "cell_type": "markdown",
   "id": "e1cecff6",
   "metadata": {},
   "source": [
    "Cleaning Jobdesc"
   ]
  },
  {
   "cell_type": "code",
   "execution_count": 55,
   "id": "4c4a1635",
   "metadata": {},
   "outputs": [],
   "source": [
    "#to lower case convert\n",
    "Job_desc = Job_desc.lower()\n",
    "#regex matching\n",
    "Job_desc= re.sub(r'[•*\\-]', '', Job_desc)"
   ]
  },
  {
   "cell_type": "code",
   "execution_count": 56,
   "id": "0be5b81e",
   "metadata": {},
   "outputs": [
    {
     "name": "stdout",
     "output_type": "stream",
     "text": [
      "about the role \n",
      " we be seek a motivated and skilled software developer with strong expertise in javascript / typescript , c++ , and python , couple with handson experience in backend system , web development , and problemsolve with data structure & algorithm . the ideal candidate be passionate about build scalable application , work with modern framework , and solve realworld technical challenge . \n",
      " key responsibility \n",
      "  design , develop , and maintain fullstack application use next.js , react.js , express.js , and mongodb / mysql . \n",
      "  implement rest apis and graphql service , ensure performance and security . \n",
      "  work on machine learning – power feature such as recommendation system and aiassiste workflow . \n",
      "  collaborate with team to analyze requirement and create system design ( uml , diagram , etc . ) . \n",
      "  apply strong problemsolving and algorithmic thinking to optimize backend performance . \n",
      "  develop , test , and deploy application use docker , git , and ci / cd workflow . \n",
      "  ensure seamless user experience with authentication system ( oauth , google login , custom provider ) . \n",
      "  communicate effectively and manage task within deadline . \n",
      " require skill \n",
      "  language : c++ , javascript , typescript , python \n",
      "  framework : next.js , react.js , express.js , langchain \n",
      "  database : mongodb , mysql \n",
      "  tool & tech : docker , git , postman , thunder client , rest apis , graphql \n",
      "  strong dsa knowledge , competitive programming mindset , and debug skill \n",
      "  soft skill : time management , public speaking , problem communication \n",
      "\n",
      "\n"
     ]
    }
   ],
   "source": [
    "#lemmitization and stop word removing\n",
    "import spacy\n",
    "nlp = spacy.load(\"en_core_web_sm\")\n",
    "doc = nlp(Job_desc)\n",
    "#stop word removing\n",
    "filtered_token = []\n",
    "for token in doc:\n",
    "    if(token.is_stop==False):\n",
    "        filtered_token.append(token.text)\n",
    "stop_remove_jdsc = \" \".join(filtered_token)\n",
    "#lemmitized the whole string\n",
    "lemmitized_token=[ token.lemma_ for token in doc ]\n",
    "lemma_jdsc=\" \".join(lemmitized_token)\n",
    "print(lemma_jdsc)"
   ]
  },
  {
   "cell_type": "markdown",
   "id": "01b077ec",
   "metadata": {},
   "source": [
    "# All task related to Resume pdf"
   ]
  },
  {
   "cell_type": "code",
   "execution_count": 39,
   "id": "7ea47585",
   "metadata": {},
   "outputs": [],
   "source": [
    "doc = pymupdf.open(\"Avishek's resume.pdf\")"
   ]
  },
  {
   "cell_type": "code",
   "execution_count": null,
   "id": "4b29fff2",
   "metadata": {},
   "outputs": [],
   "source": [
    "#extract text from the pdf\n",
    "out = open(\"output.txt\",\"wb\")\n",
    "for page in doc:\n",
    "    text = page.get_text().encode(\"utf8\")\n",
    "    out.write(text)\n",
    "    out.write(bytes((12,)))\n",
    "out.close()"
   ]
  },
  {
   "cell_type": "code",
   "execution_count": 10,
   "id": "b19b4cce",
   "metadata": {},
   "outputs": [
    {
     "name": "stdout",
     "output_type": "stream",
     "text": [
      "['patraavishe881@gmail.com']\n"
     ]
    }
   ],
   "source": [
    "\n",
    "resume_text=\"\"\n",
    "with open(\"output.txt\",\"r\",encoding=\"utf8\") as f:\n",
    "    resume_text = f.read()\n",
    "candidate_email = re.findall(r\"[A-Za-z0-9._%+-]+@[A-Za-z0-9.-]+\\.[A-Za-z]{2,}\", resume_text)\n",
    "print(candidate_email)"
   ]
  },
  {
   "cell_type": "markdown",
   "id": "a9570df7",
   "metadata": {},
   "source": [
    "Cleanig Resume text"
   ]
  },
  {
   "cell_type": "code",
   "execution_count": 62,
   "id": "e8de1b23",
   "metadata": {},
   "outputs": [],
   "source": [
    "#cleaning Resume text\n",
    "resume_text = resume_text.strip()\n",
    "resume_text = resume_text.lower()\n",
    "resume_text = re.sub(r\"[0-9]\",\"\",resume_text)\n",
    "resume_text = re.sub(r\"(linkedin|github)\",\"\",resume_text)\n",
    "resume_text = re.sub(r\"link\",\"\",resume_text)\n",
    "resume_text = re.sub(r\"(:|-)\",\"\",resume_text)\n",
    "candidate_email = re.findall(r\"[A-Za-z0-9._%+-]+@[A-Za-z0-9.-]+\\.[A-Za-z]{2,}\", resume_text)\n",
    "resume_text = re.sub(r\"\\S+@\\S+\",\"\",resume_text)\n",
    "resume_text = re.sub(r\"(email|gmail|mail)\",\"\",resume_text)\n",
    "resume_text = re.sub(r\"(contact|mobile|phone)\",\"\",resume_text)\n",
    "resume_text = re.sub(r\"http?s://\\S+\",\"\",resume_text)\n",
    "resume_text = re.sub(r\"www\\.\\S+\",\"\",resume_text)\n",
    "resume_text = re.sub(r'[•*\\-+]', '', resume_text)\n"
   ]
  },
  {
   "cell_type": "code",
   "execution_count": 64,
   "id": "f9eb99ec",
   "metadata": {},
   "outputs": [
    {
     "name": "stdout",
     "output_type": "stream",
     "text": [
      "avishek patra                                                             \n",
      "                                                                                           \n",
      "                                                                                \n",
      " \n",
      "  \n",
      "                                                                                 education \n",
      " ramakrishnan mission vivekanada \n",
      "                                     \n",
      "      july may                                    \n",
      " vivekanada centenary college                                                         \n",
      "      rahara , kolkata , india \n",
      " bachelor ’s of computer science ; gpa .                                                          \n",
      " \n",
      "                                                                           skill summary \n",
      "  language                                 c , javascript , typescript , python \n",
      "  framework                           next.js , express.js , react.js , langchain \n",
      "  tool & technology         thunder client , docker , git , postman , rest apis , graphql \n",
      "  problem solve                   datum structure & algorithm , competitive programming \n",
      "  database                                  mongodb , mysql       \n",
      "  soft skill                                 time management , public speak \n",
      " \n",
      "                                                                         work experience \n",
      " walmart usa advanced software engineer virtual experience program on forage \n",
      " february march  \n",
      " \n",
      " participate in an advanced software engineering job simulation , solve complex \n",
      " technical challenge across multiple walmart team .  \n",
      " \n",
      " develop a novel version of a heap datum structure in javascript for walmart ’s shipping \n",
      " department , showcase strong problemsolving and algorithmic skill . \n",
      " \n",
      " design a uml class diagram for a data processor , consider different operating  \n",
      " \n",
      "                                                                           \n",
      "                                                                                project \n",
      " film fusion – movie ticket booking web app ( mern stack )   \n",
      "             build a fullstack movie booking platform with dynamic seat selection and payment  \n",
      "                integration use stripe . \n",
      "             implement a personalize movie recommendation system use matrix factorization ,  \n",
      "               a collaborative filtering technique in machine learning , to predict user preference and     \n",
      "               enhance engagement . \n",
      "             include a dedicated admin panel to manage listing and toggle global setting like  \n",
      "               recommendation visibility .  \n",
      "             implement authentication via oauth use google , , and custom credential  \n",
      "               provider . \n",
      " truefeedback – user feedback collection platform ( next.js )   \n",
      "             develop a responsive platform to collect and analyse user feedback . \n",
      "             integrate genai ( openai api ) to autosugg feedback message , enhance user \n",
      "               interaction and engagement . \n",
      "             implement realtime form validation , admin moderation , and dashboard analytic .                                       \n",
      " \n",
      "                                                                         certificate \n",
      " complete python .. train   iit bombay                                                            april  \n",
      "        master fundamental python concept , include control flow , loop , function , \n",
      "          data structure and oop concept . \n",
      "        acquire expertise in procedural programming knowledge , datum manipulation with panda . \n",
      " introduction to data science and machine learning                                                     sept  \n",
      "        gain foundational knowledge of datum science concept , include datum preprocessing ,     \n",
      "          exploratory datum analysis , and model evaluation . \n",
      " problem solve ( intermediate ) – hacker rank                                                       january  \n",
      "       demonstrate strong analytical and algorithmic thinking through code challenge . \n",
      "       solve problem involve data structure , recursion , time complexity , and  \n",
      "       optimization .\n"
     ]
    }
   ],
   "source": [
    "#remove stop words\n",
    "doc2 = nlp(resume_text)\n",
    "\n",
    "stop_word_re_resume=[]\n",
    "for token in doc2:\n",
    "    if(token.is_stop==False):\n",
    "        stop_word_re_resume.append(token.text)\n",
    "filtered_resume1 = \" \".join(stop_word_re_resume)\n",
    "lemmitize_toekn=[token.lemma_  for token in doc2]\n",
    "lemme_resume = \" \".join(lemmitize_toekn)\n",
    "print(lemme_resume)\n"
   ]
  }
 ],
 "metadata": {
  "kernelspec": {
   "display_name": "Python 3 (ipykernel)",
   "language": "python",
   "name": "python3"
  },
  "language_info": {
   "codemirror_mode": {
    "name": "ipython",
    "version": 3
   },
   "file_extension": ".py",
   "mimetype": "text/x-python",
   "name": "python",
   "nbconvert_exporter": "python",
   "pygments_lexer": "ipython3",
   "version": "3.11.5"
  }
 },
 "nbformat": 4,
 "nbformat_minor": 5
}
